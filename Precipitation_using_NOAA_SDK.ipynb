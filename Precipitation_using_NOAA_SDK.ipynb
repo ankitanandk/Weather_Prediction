{
 "cells": [
  {
   "cell_type": "code",
   "execution_count": 1,
   "metadata": {},
   "outputs": [],
   "source": [
    "from noaa_sdk import NOAA\n",
    "import re\n",
    "import numpy as np\n",
    "from datetime import datetime"
   ]
  },
  {
   "cell_type": "code",
   "execution_count": 2,
   "metadata": {},
   "outputs": [],
   "source": [
    "def is_leap_year(year):\n",
    "    \"\"\" if year is a leap year return True\n",
    "        else return False \"\"\"\n",
    "    if year % 100 == 0:\n",
    "        return year % 400 == 0\n",
    "    return year % 4 == 0\n",
    "\n",
    "def day_of_year(Y,M,D):\n",
    "    \"\"\" given year, month, day return day of year\n",
    "        Astronomical Algorithms, Jean Meeus, 2d ed, 1998, chap 7 \"\"\"\n",
    "    if is_leap_year(Y):\n",
    "        K = 1\n",
    "    else:\n",
    "        K = 2\n",
    "    N = int((275 * M) / 9.0) - K * int((M + 9) / 12.0) + D - 30\n",
    "    return N"
   ]
  },
  {
   "cell_type": "code",
   "execution_count": 3,
   "metadata": {},
   "outputs": [
    {
     "name": "stdout",
     "output_type": "stream",
     "text": [
      "0.0 \n",
      " ['2022', '04', '07', '05', '53', '00', '00', '00'] \n",
      "\n",
      "\n",
      "0.393701 \n",
      " ['2022', '04', '06', '23', '53', '00', '00', '00'] \n",
      "\n",
      "\n",
      "0.0 \n",
      " ['2022', '04', '11', '17', '53', '00', '00', '00'] \n",
      "\n",
      "\n",
      "0.0 \n",
      " ['2022', '04', '08', '23', '53', '00', '00', '00'] \n",
      "\n",
      "\n",
      "0.0 \n",
      " ['2022', '04', '09', '05', '53', '00', '00', '00'] \n",
      "\n",
      "\n"
     ]
    }
   ],
   "source": [
    "n = NOAA()\n",
    "X = np.zeros([23, 366])\n",
    "\n",
    "zip = '35205'  #35205 is Birmingham Al\n",
    "res = n.get_observations(zip, 'US')\n",
    "\n",
    "\n",
    "for current in res:\n",
    "\n",
    "    time = re.split('[- : + T]', current[\"timestamp\"])\n",
    "    year, month, day, hour = int(time[0]), int(time[1]), int(time[2]), int(time[3])\n",
    "    d = day_of_year(year, month, day)\n",
    "    y = year - 2000\n",
    "    \n",
    "    precip = current[\"precipitationLast6Hours\"][\"value\"] \n",
    "    \n",
    "    if (precip != None) and (y>0):\n",
    "        X[y, d] = X[y, d] + precip * 39.3701 #Original number in is meters, we want inches\n",
    "        \n",
    "        print(precip* 39.3701, \"\\n\", time, \"\\n\\n\") "
   ]
  },
  {
   "cell_type": "code",
   "execution_count": 4,
   "metadata": {},
   "outputs": [],
   "source": [
    "#with np.printoptions(threshold=np.inf):\n",
    "    #print(X)"
   ]
  }
 ],
 "metadata": {
  "kernelspec": {
   "display_name": "Python 3",
   "language": "python",
   "name": "python3"
  },
  "language_info": {
   "codemirror_mode": {
    "name": "ipython",
    "version": 3
   },
   "file_extension": ".py",
   "mimetype": "text/x-python",
   "name": "python",
   "nbconvert_exporter": "python",
   "pygments_lexer": "ipython3",
   "version": "3.8.3"
  }
 },
 "nbformat": 4,
 "nbformat_minor": 4
}
